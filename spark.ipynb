{
 "cells": [
  {
   "cell_type": "code",
   "execution_count": 2,
   "metadata": {},
   "outputs": [
    {
     "name": "stderr",
     "output_type": "stream",
     "text": [
      "23/06/19 08:57:11 WARN Utils: Your hostname, DESKTOP-L5DLPTK resolves to a loopback address: 127.0.1.1; using 192.168.144.224 instead (on interface wifi0)\n",
      "23/06/19 08:57:11 WARN Utils: Set SPARK_LOCAL_IP if you need to bind to another address\n",
      "Setting default log level to \"WARN\".\n",
      "To adjust logging level use sc.setLogLevel(newLevel). For SparkR, use setLogLevel(newLevel).\n",
      "23/06/19 08:57:14 WARN NativeCodeLoader: Unable to load native-hadoop library for your platform... using builtin-java classes where applicable\n"
     ]
    }
   ],
   "source": [
    "from pyspark.sql import SparkSession\n",
    "from pyspark.sql.functions import explode, split, col, desc, lit\n",
    "import glob\n",
    "\n",
    "spark = SparkSession.builder \\\n",
    "    .master('local[*]') \\\n",
    "    .appName(\"WordCount\") \\\n",
    "    .getOrCreate()"
   ]
  },
  {
   "cell_type": "code",
   "execution_count": 3,
   "metadata": {},
   "outputs": [
    {
     "data": {
      "text/html": [
       "\n",
       "            <div>\n",
       "                <p><b>SparkSession - in-memory</b></p>\n",
       "                \n",
       "        <div>\n",
       "            <p><b>SparkContext</b></p>\n",
       "\n",
       "            <p><a href=\"http://192.168.144.224:4040\">Spark UI</a></p>\n",
       "\n",
       "            <dl>\n",
       "              <dt>Version</dt>\n",
       "                <dd><code>v3.4.0</code></dd>\n",
       "              <dt>Master</dt>\n",
       "                <dd><code>local[*]</code></dd>\n",
       "              <dt>AppName</dt>\n",
       "                <dd><code>WordCount</code></dd>\n",
       "            </dl>\n",
       "        </div>\n",
       "        \n",
       "            </div>\n",
       "        "
      ],
      "text/plain": [
       "<pyspark.sql.session.SparkSession at 0x7fae75bc1270>"
      ]
     },
     "execution_count": 3,
     "metadata": {},
     "output_type": "execute_result"
    }
   ],
   "source": [
    "spark"
   ]
  },
  {
   "cell_type": "code",
   "execution_count": null,
   "metadata": {},
   "outputs": [],
   "source": [
    "from pyspark.sql import SparkSession\n",
    "from pyspark.sql.functions import split, explode, desc\n"
   ]
  },
  {
   "cell_type": "code",
   "execution_count": 20,
   "metadata": {},
   "outputs": [],
   "source": [
    "file_paths = glob.glob('/home/lucas/Projeto2Savino/src/clean_data/*json')"
   ]
  },
  {
   "cell_type": "code",
   "execution_count": 41,
   "metadata": {},
   "outputs": [],
   "source": [
    "def count_words(file_path, top_n_words=30):\n",
    "    \"\"\"\n",
    "    Conta a frequência de palavras de um arquivo\n",
    "    json e seleciona as top_n_wordsmais frequentes.\n",
    "    \"\"\"\n",
    "    file_name = file_path.split('/')[-1].split('.')[0]\n",
    "    df = spark.read.json('/home/lucas/Projeto2Savino/src/clean_data/CanalTechLimpo.json')\n",
    "    df_words = df.withColumn(\"words\", split(df.text, \"\\s+\"))\n",
    "    df_exploded = df_words.select(df_words.link, explode(df_words.words).alias(\"word\"))\n",
    "    word_counts = df_exploded.groupBy(\"word\").count()\n",
    "    word_counts_sorted = word_counts.orderBy(word_counts[\"count\"].desc()).limit(top_n_words)\n",
    "    site_word_counts = word_counts_sorted.withColumn(\"site\", lit(file_name))\n",
    "    return site_word_counts"
   ]
  },
  {
   "cell_type": "code",
   "execution_count": 44,
   "metadata": {},
   "outputs": [],
   "source": [
    "dfs = []\n",
    "for file_ in file_paths:\n",
    "    word_counts = count_words(file_)\n",
    "    dfs.append(word_counts)"
   ]
  },
  {
   "attachments": {},
   "cell_type": "markdown",
   "metadata": {},
   "source": [
    "Unindo todos os DataFrames em um só"
   ]
  },
  {
   "cell_type": "code",
   "execution_count": 45,
   "metadata": {},
   "outputs": [],
   "source": [
    "result_df = dfs[0]\n",
    "for i in range(1, len(dfs)):\n",
    "    result_df = result_df.union(dfs[i])"
   ]
  },
  {
   "cell_type": "code",
   "execution_count": 47,
   "metadata": {},
   "outputs": [
    {
     "name": "stderr",
     "output_type": "stream",
     "text": [
      "[Stage 23:>                                                         (0 + 1) / 1]\r"
     ]
    },
    {
     "name": "stdout",
     "output_type": "stream",
     "text": [
      "+------------+-----+--------------+\n",
      "|        word|count|          site|\n",
      "+------------+-----+--------------+\n",
      "|     AirPods|   84|CanalTechLimpo|\n",
      "|       Apple|   50|CanalTechLimpo|\n",
      "|         Pro|   45|CanalTechLimpo|\n",
      "|           2|   28|CanalTechLimpo|\n",
      "|      estojo|   22|CanalTechLimpo|\n",
      "|      ouvido|   21|CanalTechLimpo|\n",
      "|      iPhone|   20|CanalTechLimpo|\n",
      "|carregamento|   20|CanalTechLimpo|\n",
      "|       fones|   18|CanalTechLimpo|\n",
      "|        fone|   17|CanalTechLimpo|\n",
      "|     bateria|   16|CanalTechLimpo|\n",
      "|        USBC|   14|CanalTechLimpo|\n",
      "|        novo|   14|CanalTechLimpo|\n",
      "|       Passo|   14|CanalTechLimpo|\n",
      "|       Beats|   12|CanalTechLimpo|\n",
      "|          TV|   12|CanalTechLimpo|\n",
      "|      volume|   12|CanalTechLimpo|\n",
      "|         Fit|   11|CanalTechLimpo|\n",
      "|       áudio|   11|CanalTechLimpo|\n",
      "|        deve|   11|CanalTechLimpo|\n",
      "+------------+-----+--------------+\n",
      "only showing top 20 rows\n",
      "\n"
     ]
    },
    {
     "name": "stderr",
     "output_type": "stream",
     "text": [
      "                                                                                \r"
     ]
    }
   ],
   "source": [
    "result_df.show()"
   ]
  },
  {
   "cell_type": "code",
   "execution_count": 43,
   "metadata": {},
   "outputs": [
    {
     "name": "stderr",
     "output_type": "stream",
     "text": [
      "[Stage 15:>                                                         (0 + 1) / 1]\r"
     ]
    },
    {
     "name": "stdout",
     "output_type": "stream",
     "text": [
      "+------------+-----+--------------+\n",
      "|        word|count|          site|\n",
      "+------------+-----+--------------+\n",
      "|     AirPods|   84|CanalTechLimpo|\n",
      "|       Apple|   50|CanalTechLimpo|\n",
      "|         Pro|   45|CanalTechLimpo|\n",
      "|           2|   28|CanalTechLimpo|\n",
      "|      estojo|   22|CanalTechLimpo|\n",
      "|      ouvido|   21|CanalTechLimpo|\n",
      "|      iPhone|   20|CanalTechLimpo|\n",
      "|carregamento|   20|CanalTechLimpo|\n",
      "|       fones|   18|CanalTechLimpo|\n",
      "|        fone|   17|CanalTechLimpo|\n",
      "|     bateria|   16|CanalTechLimpo|\n",
      "|        USBC|   14|CanalTechLimpo|\n",
      "|        novo|   14|CanalTechLimpo|\n",
      "|       Passo|   14|CanalTechLimpo|\n",
      "|       Beats|   12|CanalTechLimpo|\n",
      "|          TV|   12|CanalTechLimpo|\n",
      "|      volume|   12|CanalTechLimpo|\n",
      "|         Fit|   11|CanalTechLimpo|\n",
      "|        deve|   11|CanalTechLimpo|\n",
      "|       áudio|   11|CanalTechLimpo|\n",
      "+------------+-----+--------------+\n",
      "only showing top 20 rows\n",
      "\n"
     ]
    },
    {
     "name": "stderr",
     "output_type": "stream",
     "text": [
      "                                                                                \r"
     ]
    }
   ],
   "source": [
    "word_counts.show()"
   ]
  },
  {
   "cell_type": "code",
   "execution_count": 23,
   "metadata": {},
   "outputs": [],
   "source": [
    "df = spark.read.json('/home/lucas/Projeto2Savino/src/clean_data/CanalTechLimpo.json')"
   ]
  },
  {
   "cell_type": "code",
   "execution_count": 24,
   "metadata": {},
   "outputs": [
    {
     "name": "stdout",
     "output_type": "stream",
     "text": [
      "+--------------------+--------------------+\n",
      "|                link|                text|\n",
      "+--------------------+--------------------+\n",
      "|https://canaltech...|Após pressão Uniã...|\n",
      "|https://canaltech...|Beats Fit Pro apo...|\n",
      "|https://canaltech...|Apple prepara set...|\n",
      "|https://canaltech...|Apple lançou AirP...|\n",
      "|https://canaltech...|Apresentado final...|\n",
      "|https://canaltech...|grandes qualidade...|\n",
      "|https://canaltech...|AirPods Pro 2 lan...|\n",
      "|https://canaltech...|AirPods excelente...|\n",
      "+--------------------+--------------------+\n",
      "\n"
     ]
    }
   ],
   "source": [
    "df.show()"
   ]
  },
  {
   "cell_type": "code",
   "execution_count": 25,
   "metadata": {},
   "outputs": [],
   "source": [
    "df_words = df.withColumn(\"words\", split(df.text, \"\\s+\"))"
   ]
  },
  {
   "cell_type": "code",
   "execution_count": 26,
   "metadata": {},
   "outputs": [],
   "source": [
    "df_exploded = df_words.select(df_words.link, explode(df_words.words).alias(\"word\"))"
   ]
  },
  {
   "cell_type": "code",
   "execution_count": 29,
   "metadata": {},
   "outputs": [],
   "source": [
    "word_counts = df_exploded.groupBy(\"word\").count()"
   ]
  },
  {
   "cell_type": "code",
   "execution_count": 30,
   "metadata": {},
   "outputs": [],
   "source": [
    "word_counts_sorted = word_counts.orderBy(word_counts[\"count\"].desc()).limit(30)"
   ]
  },
  {
   "cell_type": "code",
   "execution_count": 32,
   "metadata": {},
   "outputs": [
    {
     "name": "stderr",
     "output_type": "stream",
     "text": [
      "[Stage 6:>                                                          (0 + 1) / 1]\r"
     ]
    },
    {
     "name": "stdout",
     "output_type": "stream",
     "text": [
      "+------------+-----+\n",
      "|        word|count|\n",
      "+------------+-----+\n",
      "|     AirPods|   84|\n",
      "|       Apple|   50|\n",
      "|         Pro|   45|\n",
      "|           2|   28|\n",
      "|      estojo|   22|\n",
      "|      ouvido|   21|\n",
      "|      iPhone|   20|\n",
      "|carregamento|   20|\n",
      "|       fones|   18|\n",
      "|        fone|   17|\n",
      "|     bateria|   16|\n",
      "|        USBC|   14|\n",
      "|        novo|   14|\n",
      "|       Passo|   14|\n",
      "|       Beats|   12|\n",
      "|          TV|   12|\n",
      "|      volume|   12|\n",
      "|         Fit|   11|\n",
      "|        deve|   11|\n",
      "|       áudio|   11|\n",
      "+------------+-----+\n",
      "only showing top 20 rows\n",
      "\n"
     ]
    },
    {
     "name": "stderr",
     "output_type": "stream",
     "text": [
      "                                                                                \r"
     ]
    }
   ],
   "source": [
    "word_counts_sorted.show()"
   ]
  },
  {
   "cell_type": "code",
   "execution_count": 15,
   "metadata": {},
   "outputs": [
    {
     "name": "stderr",
     "output_type": "stream",
     "text": [
      "                                                                                \r"
     ]
    }
   ],
   "source": [
    "word_counts_sorted.write.csv(\"/home/lucas/Projeto2Savino/src/word_counts/canal_tech.csv\", header=True, mode=\"overwrite\")"
   ]
  }
 ],
 "metadata": {
  "kernelspec": {
   "display_name": "Python 3",
   "language": "python",
   "name": "python3"
  },
  "language_info": {
   "codemirror_mode": {
    "name": "ipython",
    "version": 3
   },
   "file_extension": ".py",
   "mimetype": "text/x-python",
   "name": "python",
   "nbconvert_exporter": "python",
   "pygments_lexer": "ipython3",
   "version": "3.10.6"
  },
  "orig_nbformat": 4
 },
 "nbformat": 4,
 "nbformat_minor": 2
}
